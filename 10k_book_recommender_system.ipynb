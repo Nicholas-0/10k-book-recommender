{
  "nbformat": 4,
  "nbformat_minor": 0,
  "metadata": {
    "colab": {
      "name": "10k_book_recommender_system.ipynb",
      "provenance": [],
      "authorship_tag": "ABX9TyOv6wa5CfpR/72WcWRbo/au",
      "include_colab_link": true
    },
    "kernelspec": {
      "name": "python3",
      "display_name": "Python 3"
    },
    "accelerator": "GPU"
  },
  "cells": [
    {
      "cell_type": "markdown",
      "metadata": {
        "id": "view-in-github",
        "colab_type": "text"
      },
      "source": [
        "<a href=\"https://colab.research.google.com/github/Nicholas-0/10k-book-recommender/blob/master/10k_book_recommender_system.ipynb\" target=\"_parent\"><img src=\"https://colab.research.google.com/assets/colab-badge.svg\" alt=\"Open In Colab\"/></a>"
      ]
    },
    {
      "cell_type": "code",
      "metadata": {
        "id": "cjODY6L7D-3r",
        "colab_type": "code",
        "colab": {
          "base_uri": "https://localhost:8080/",
          "height": 118
        },
        "outputId": "23388abf-2de9-45b2-b1a8-ca1753b8ac54"
      },
      "source": [
        "! git clone https://github.com/Nicholas-0/10k-book-recommender.git"
      ],
      "execution_count": 1,
      "outputs": [
        {
          "output_type": "stream",
          "text": [
            "Cloning into '10k-book-recommender'...\n",
            "remote: Enumerating objects: 28, done.\u001b[K\n",
            "remote: Counting objects: 100% (28/28), done.\u001b[K\n",
            "remote: Compressing objects: 100% (22/22), done.\u001b[K\n",
            "remote: Total 28 (delta 2), reused 28 (delta 2), pack-reused 0\u001b[K\n",
            "Unpacking objects: 100% (28/28), done.\n"
          ],
          "name": "stdout"
        }
      ]
    },
    {
      "cell_type": "code",
      "metadata": {
        "id": "SwP4QlEfqtqE",
        "colab_type": "code",
        "colab": {}
      },
      "source": [
        "# Importing necessary libraries\n",
        "import numpy as np\n",
        "import tensorflow as tf\n",
        "import pandas as pd\n",
        "import matplotlib.pyplot as plt\n",
        "import os\n",
        "from sklearn.model_selection import train_test_split"
      ],
      "execution_count": 2,
      "outputs": []
    },
    {
      "cell_type": "code",
      "metadata": {
        "id": "BrzycMm4q7Dm",
        "colab_type": "code",
        "colab": {}
      },
      "source": [
        "# Reading the csv files\n",
        "books_df = pd.read_csv(\"10k-book-recommender/Data/books.csv\")\n",
        "ratings_df = pd.read_csv(\"10k-book-recommender/Data/ratings.csv\")"
      ],
      "execution_count": 3,
      "outputs": []
    },
    {
      "cell_type": "code",
      "metadata": {
        "id": "ucumKzh3q_wq",
        "colab_type": "code",
        "colab": {
          "base_uri": "https://localhost:8080/",
          "height": 790
        },
        "outputId": "32dc9f7e-9157-4e39-f2bb-c8a4bf55e088"
      },
      "source": [
        "# Exploring the dataset\n",
        "print(ratings_df.head())\n",
        "print(books_df.head())\n",
        "print(\"Number of unique books: \", books_df.book_id.nunique())  # 10000\n",
        "print(\"Number of unique users: \", ratings_df.user_id.nunique())  # 53424\n",
        "print(\"Shape of ratings_df: \", ratings_df.shape)  # (981756, 3)\n",
        "print(\"Shape of books_df: \", books_df.shape)  # (10000, 23)\n",
        "\n",
        "# Checking if there is any missing values\n",
        "print(ratings_df.isnull().sum())  # No missing values\n",
        "print(books_df.isnull().sum())  # Some missing values"
      ],
      "execution_count": 4,
      "outputs": [
        {
          "output_type": "stream",
          "text": [
            "   book_id  user_id  rating\n",
            "0        1      314       5\n",
            "1        1      439       3\n",
            "2        1      588       5\n",
            "3        1     1169       4\n",
            "4        1     1185       4\n",
            "   id  ...                                    small_image_url\n",
            "0   1  ...  https://images.gr-assets.com/books/1447303603s...\n",
            "1   2  ...  https://images.gr-assets.com/books/1474154022s...\n",
            "2   3  ...  https://images.gr-assets.com/books/1361039443s...\n",
            "3   4  ...  https://images.gr-assets.com/books/1361975680s...\n",
            "4   5  ...  https://images.gr-assets.com/books/1490528560s...\n",
            "\n",
            "[5 rows x 23 columns]\n",
            "Number of unique books:  10000\n",
            "Number of unique users:  53424\n",
            "Shape of ratings_df:  (981756, 3)\n",
            "Shape of books_df:  (10000, 23)\n",
            "book_id    0\n",
            "user_id    0\n",
            "rating     0\n",
            "dtype: int64\n",
            "id                              0\n",
            "book_id                         0\n",
            "best_book_id                    0\n",
            "work_id                         0\n",
            "books_count                     0\n",
            "isbn                          700\n",
            "isbn13                        585\n",
            "authors                         0\n",
            "original_publication_year      21\n",
            "original_title                585\n",
            "title                           0\n",
            "language_code                1084\n",
            "average_rating                  0\n",
            "ratings_count                   0\n",
            "work_ratings_count              0\n",
            "work_text_reviews_count         0\n",
            "ratings_1                       0\n",
            "ratings_2                       0\n",
            "ratings_3                       0\n",
            "ratings_4                       0\n",
            "ratings_5                       0\n",
            "image_url                       0\n",
            "small_image_url                 0\n",
            "dtype: int64\n"
          ],
          "name": "stdout"
        }
      ]
    },
    {
      "cell_type": "code",
      "metadata": {
        "id": "PVKLsFs1rGbO",
        "colab_type": "code",
        "colab": {
          "base_uri": "https://localhost:8080/",
          "height": 50
        },
        "outputId": "b37248a2-52d2-4d5e-9a41-71f56ed8cb93"
      },
      "source": [
        "# Splitting the data into train and test set, using a ratio of 0.8\n",
        "X_train, X_test = train_test_split(ratings_df, test_size=0.2, random_state=42)\n",
        "print(f\"Train shape: {X_train.shape}\")\n",
        "print(f\"Test shape: {X_test.shape}\")"
      ],
      "execution_count": 5,
      "outputs": [
        {
          "output_type": "stream",
          "text": [
            "Train shape: (785404, 3)\n",
            "Test shape: (196352, 3)\n"
          ],
          "name": "stdout"
        }
      ]
    },
    {
      "cell_type": "code",
      "metadata": {
        "id": "R4lH5MR1rJbq",
        "colab_type": "code",
        "colab": {
          "base_uri": "https://localhost:8080/",
          "height": 644
        },
        "outputId": "e16f9aa7-d69b-442f-f513-682093cd2aab"
      },
      "source": [
        "# Building the model using Functional API\n",
        "# We will create two separate embeddings: one for users, and one for books, then concatenate them together\n",
        "n_users_index = ratings_df.user_id.nunique()\n",
        "n_books_index = ratings_df.book_id.nunique()\n",
        "\n",
        "# For books\n",
        "books_input = tf.keras.layers.Input(shape=[1])\n",
        "books_embeddings = tf.keras.layers.Embedding(n_books_index + 1, 16)(books_input)\n",
        "books_output = tf.keras.layers.Flatten()(books_embeddings)\n",
        "\n",
        "# For users\n",
        "users_input = tf.keras.layers.Input(shape=[1])\n",
        "users_embeddings = tf.keras.layers.Embedding(n_users_index + 1, 16)(users_input)  \n",
        "users_output = tf.keras.layers.Flatten()(users_embeddings)\n",
        "\n",
        "# Concatenate\n",
        "concat = tf.keras.layers.Concatenate()([books_output, users_output])\n",
        "x1 = tf.keras.layers.Dense(128, activation=\"relu\")(concat)\n",
        "x2 = tf.keras.layers.Dense(1, activation=\"relu\")(x1)  # Ratings for each book in the train dataset\n",
        "model = tf.keras.Model([books_input, users_input], x2, name=\"book_user_model\")\n",
        "\n",
        "# Plotting the model\n",
        "tf.keras.utils.plot_model(model, show_shapes=True)"
      ],
      "execution_count": 6,
      "outputs": [
        {
          "output_type": "execute_result",
          "data": {
            "image/png": "[encoded data removed]",
            "text/plain": [
              "<IPython.core.display.Image object>"
            ]
          },
          "metadata": {
            "tags": []
          },
          "execution_count": 6
        }
      ]
    },
    {
      "cell_type": "code",
      "metadata": {
        "id": "vHYOQn7-raVR",
        "colab_type": "code",
        "colab": {
          "base_uri": "https://localhost:8080/",
          "height": 1000
        },
        "outputId": "cd144838-f440-40c2-afcc-e5449d1a63e8"
      },
      "source": [
        "# Compiling our model\n",
        "optimizer = tf.keras.optimizers.Adam(lr=1e-4)\n",
        "\n",
        "# Finding the best learning rate\n",
        "lr_schedule = tf.keras.callbacks.LearningRateScheduler(\n",
        "    lambda epoch: 1e-4 * 10 ** (epoch / 10)\n",
        ")\n",
        "callbacks = [lr_schedule]\n",
        "\n",
        "model.compile(optimizer=optimizer,\n",
        "              loss=\"mse\")\n",
        "\n",
        "print(model.summary())\n",
        "\n",
        "# Training the model\n",
        "history = model.fit([X_train.book_id, X_train.user_id],\n",
        "                    X_train.rating,\n",
        "                    batch_size=64,\n",
        "                    epochs=30,\n",
        "                    validation_data=([X_test.book_id, X_test.user_id], X_test.rating),\n",
        "                    callbacks=callbacks,\n",
        "                    verbose=1)\n"
      ],
      "execution_count": 7,
      "outputs": [
        {
          "output_type": "stream",
          "text": [
            "Model: \"book_user_model\"\n",
            "__________________________________________________________________________________________________\n",
            "Layer (type)                    Output Shape         Param #     Connected to                     \n",
            "==================================================================================================\n",
            "input_1 (InputLayer)            [(None, 1)]          0                                            \n",
            "__________________________________________________________________________________________________\n",
            "input_2 (InputLayer)            [(None, 1)]          0                                            \n",
            "__________________________________________________________________________________________________\n",
            "embedding (Embedding)           (None, 1, 16)        160016      input_1[0][0]                    \n",
            "__________________________________________________________________________________________________\n",
            "embedding_1 (Embedding)         (None, 1, 16)        854800      input_2[0][0]                    \n",
            "__________________________________________________________________________________________________\n",
            "flatten (Flatten)               (None, 16)           0           embedding[0][0]                  \n",
            "__________________________________________________________________________________________________\n",
            "flatten_1 (Flatten)             (None, 16)           0           embedding_1[0][0]                \n",
            "__________________________________________________________________________________________________\n",
            "concatenate (Concatenate)       (None, 32)           0           flatten[0][0]                    \n",
            "                                                                 flatten_1[0][0]                  \n",
            "__________________________________________________________________________________________________\n",
            "dense (Dense)                   (None, 128)          4224        concatenate[0][0]                \n",
            "__________________________________________________________________________________________________\n",
            "dense_1 (Dense)                 (None, 1)            129         dense[0][0]                      \n",
            "==================================================================================================\n",
            "Total params: 1,019,169\n",
            "Trainable params: 1,019,169\n",
            "Non-trainable params: 0\n",
            "__________________________________________________________________________________________________\n",
            "None\n",
            "Epoch 1/30\n",
            "12272/12272 [==============================] - 118s 10ms/step - loss: 1.6695 - val_loss: 0.7385\n",
            "Epoch 2/30\n",
            "12272/12272 [==============================] - 118s 10ms/step - loss: 0.6959 - val_loss: 0.7166\n",
            "Epoch 3/30\n",
            "12272/12272 [==============================] - 114s 9ms/step - loss: 0.6749 - val_loss: 0.7095\n",
            "Epoch 4/30\n",
            "12272/12272 [==============================] - 114s 9ms/step - loss: 0.6664 - val_loss: 0.7076\n",
            "Epoch 5/30\n",
            "12272/12272 [==============================] - 114s 9ms/step - loss: 0.6617 - val_loss: 0.7077\n",
            "Epoch 6/30\n",
            "12272/12272 [==============================] - 116s 9ms/step - loss: 0.6571 - val_loss: 0.7050\n",
            "Epoch 7/30\n",
            "12272/12272 [==============================] - 116s 9ms/step - loss: 0.6483 - val_loss: 0.7014\n",
            "Epoch 8/30\n",
            "12272/12272 [==============================] - 113s 9ms/step - loss: 0.6358 - val_loss: 0.7016\n",
            "Epoch 9/30\n",
            "12272/12272 [==============================] - 114s 9ms/step - loss: 0.6218 - val_loss: 0.7072\n",
            "Epoch 10/30\n",
            "12272/12272 [==============================] - 112s 9ms/step - loss: 0.6025 - val_loss: 0.7124\n",
            "Epoch 11/30\n",
            "12272/12272 [==============================] - 111s 9ms/step - loss: 0.5804 - val_loss: 0.7287\n",
            "Epoch 12/30\n",
            "12272/12272 [==============================] - 111s 9ms/step - loss: 0.5542 - val_loss: 0.7452\n",
            "Epoch 13/30\n",
            "12272/12272 [==============================] - 111s 9ms/step - loss: 0.5252 - val_loss: 0.7655\n",
            "Epoch 14/30\n",
            "12272/12272 [==============================] - 111s 9ms/step - loss: 0.4996 - val_loss: 0.7657\n",
            "Epoch 15/30\n",
            "12272/12272 [==============================] - 113s 9ms/step - loss: 0.4792 - val_loss: 0.7949\n",
            "Epoch 16/30\n",
            "12272/12272 [==============================] - 112s 9ms/step - loss: 0.4631 - val_loss: 0.8099\n",
            "Epoch 17/30\n",
            "12272/12272 [==============================] - 113s 9ms/step - loss: 0.4539 - val_loss: 0.8131\n",
            "Epoch 18/30\n",
            "12272/12272 [==============================] - 112s 9ms/step - loss: 0.4506 - val_loss: 0.8267\n",
            "Epoch 19/30\n",
            "12272/12272 [==============================] - 112s 9ms/step - loss: 0.4545 - val_loss: 0.8204\n",
            "Epoch 20/30\n",
            "12272/12272 [==============================] - 116s 9ms/step - loss: 0.4654 - val_loss: 0.8493\n",
            "Epoch 21/30\n",
            "12272/12272 [==============================] - 112s 9ms/step - loss: 0.4831 - val_loss: 0.8344\n",
            "Epoch 22/30\n",
            "12272/12272 [==============================] - 113s 9ms/step - loss: 0.5089 - val_loss: 0.8413\n",
            "Epoch 23/30\n",
            "12272/12272 [==============================] - 113s 9ms/step - loss: 0.5450 - val_loss: 0.8330\n",
            "Epoch 24/30\n",
            "12272/12272 [==============================] - 112s 9ms/step - loss: 0.6025 - val_loss: 0.8112\n",
            "Epoch 25/30\n",
            "12272/12272 [==============================] - 114s 9ms/step - loss: 0.6724 - val_loss: 0.7621\n",
            "Epoch 26/30\n",
            "12272/12272 [==============================] - 111s 9ms/step - loss: 0.7229 - val_loss: 0.7659\n",
            "Epoch 27/30\n",
            "12272/12272 [==============================] - 112s 9ms/step - loss: 0.8025 - val_loss: 0.8590\n",
            "Epoch 28/30\n",
            "12272/12272 [==============================] - 112s 9ms/step - loss: 1.0999 - val_loss: 1.0862\n",
            "Epoch 29/30\n",
            "12272/12272 [==============================] - 114s 9ms/step - loss: 1.9941 - val_loss: 2.2037\n",
            "Epoch 30/30\n",
            "12272/12272 [==============================] - 113s 9ms/step - loss: 2.4346 - val_loss: 2.2935\n"
          ],
          "name": "stdout"
        }
      ]
    },
    {
      "cell_type": "code",
      "metadata": {
        "id": "x67mMbFNYAbF",
        "colab_type": "code",
        "colab": {
          "base_uri": "https://localhost:8080/",
          "height": 378
        },
        "outputId": "280a3830-f070-452f-cd94-26dce5614737"
      },
      "source": [
        "plt.figure(figsize=(10, 6))\n",
        "plt.semilogx(history.history[\"lr\"], history.history[\"loss\"])\n",
        "plt.show()"
      ],
      "execution_count": 10,
      "outputs": [
        {
          "output_type": "display_data",
          "data": {
            "image/png": "[encoded data removed]",
            "text/plain": [
              "<Figure size 720x432 with 1 Axes>"
            ]
          },
          "metadata": {
            "tags": [],
            "needs_background": "light"
          }
        }
      ]
    },
    {
      "cell_type": "code",
      "metadata": {
        "id": "TdsTudRRgsBx",
        "colab_type": "code",
        "colab": {
          "base_uri": "https://localhost:8080/",
          "height": 255
        },
        "outputId": "f7ad91b5-e38b-4a50-9f6a-582aef71dc88"
      },
      "source": [
        "# Best learning rate at 1e-3\n",
        "# So let's define a final model and train our dataset on it for 3 epochs\n",
        "books_input = tf.keras.layers.Input(shape=[1])\n",
        "books_embeddings = tf.keras.layers.Embedding(n_books_index + 1, 16)(books_input)\n",
        "books_output = tf.keras.layers.Flatten()(books_embeddings)\n",
        "users_input = tf.keras.layers.Input(shape=[1])\n",
        "users_embeddings = tf.keras.layers.Embedding(n_users_index + 1, 16)(users_input)\n",
        "users_output = tf.keras.layers.Flatten()(users_embeddings)\n",
        "concat = tf.keras.layers.Concatenate()([books_output, users_output])\n",
        "x1 = tf.keras.layers.Dense(128, activation=\"relu\")(concat)\n",
        "x2 = tf.keras.layers.Dense(1, activation=\"relu\")(x1)  # Ratings for each book in the train dataset\n",
        "f_model = tf.keras.Model([books_input, users_input], x2, name=\"final_book_user_model\")\n",
        "\n",
        "optimizer = tf.keras.optimizers.Adam(lr=1e-3)\n",
        "f_model.compile(optimizer=optimizer,\n",
        "                loss=\"mse\")\n",
        "\n",
        "f_history = f_model.fit([X_train.book_id, X_train.user_id],\n",
        "                        X_train.rating,\n",
        "                        batch_size=128, #  For quicker training\n",
        "                        epochs=3,\n",
        "                        verbose=1,\n",
        "                        validation_data=([X_test.book_id, X_test.user_id], X_test.rating))\n",
        "\n",
        "# Saving the model\n",
        "!mkdir -p saved_model\n",
        "f_model.save(\"saved_model/my_book_user_model\")\n",
        "\n",
        "\n",
        "\n"
      ],
      "execution_count": 12,
      "outputs": [
        {
          "output_type": "stream",
          "text": [
            "Epoch 1/3\n",
            "6136/6136 [==============================] - 58s 10ms/step - loss: 0.9327 - val_loss: 0.7206\n",
            "Epoch 2/3\n",
            "6136/6136 [==============================] - 59s 10ms/step - loss: 0.6813 - val_loss: 0.7092\n",
            "Epoch 3/3\n",
            "6136/6136 [==============================] - 58s 9ms/step - loss: 0.6449 - val_loss: 0.7004\n",
            "WARNING:tensorflow:From /usr/local/lib/python3.6/dist-packages/tensorflow/python/training/tracking/tracking.py:111: Model.state_updates (from tensorflow.python.keras.engine.training) is deprecated and will be removed in a future version.\n",
            "Instructions for updating:\n",
            "This property should not be used in TensorFlow 2.0, as updates are applied automatically.\n",
            "WARNING:tensorflow:From /usr/local/lib/python3.6/dist-packages/tensorflow/python/training/tracking/tracking.py:111: Layer.updates (from tensorflow.python.keras.engine.base_layer) is deprecated and will be removed in a future version.\n",
            "Instructions for updating:\n",
            "This property should not be used in TensorFlow 2.0, as updates are applied automatically.\n",
            "INFO:tensorflow:Assets written to: saved_model/my_book_user_model/assets\n"
          ],
          "name": "stdout"
        }
      ]
    },
    {
      "cell_type": "code",
      "metadata": {
        "id": "QHPMY8HolMAc",
        "colab_type": "code",
        "colab": {
          "base_uri": "https://localhost:8080/",
          "height": 511
        },
        "outputId": "1d4d16d8-b25d-4072-cbbf-c7f5e7fdd438"
      },
      "source": [
        "# Finally let's see the book recommendation for the 5th user\n",
        "\n",
        "# We do this by passing both the list of all books and the corresponding user\n",
        "# index (in this case 5) to the model. Note that they have to have the same shape.\n",
        "books_index = list(ratings_df.book_id.unique())\n",
        "books_array = np.array(books_index)\n",
        "user5_array = np.array([5 for _ in range(len(books_array))])\n",
        "\n",
        "\n",
        "user5_predicted_book_ratings = f_model.predict([books_array, user5_array])\n",
        "user5_predicted_book_ratings = user5_predicted_book_ratings.reshape(-1)\n",
        "\n",
        "\n",
        "\n",
        "# Finding the books with the highest predicted ratings\n",
        "highest_predicted_book_index = user5_predicted_book_ratings.argsort()\n",
        "top10_predicted_book_index = highest_predicted_book_index[0:10]\n",
        "\n",
        "\n",
        "# Locating the top 10 books from the books_df and show the most important\n",
        "# features only\n",
        "important_features = [\"title\", \"authors\", \"original_publication_year\", \"isbn\", \"isbn13\", \"image_url\"]\n",
        "trunc_books_df = books_df[important_features]\n",
        "trunc_books_df.iloc[top10_predicted_book_index]\n"
      ],
      "execution_count": 13,
      "outputs": [
        {
          "output_type": "execute_result",
          "data": {
            "text/html": [
              "<div>\n",
              "<style scoped>\n",
              "    .dataframe tbody tr th:only-of-type {\n",
              "        vertical-align: middle;\n",
              "    }\n",
              "\n",
              "    .dataframe tbody tr th {\n",
              "        vertical-align: top;\n",
              "    }\n",
              "\n",
              "    .dataframe thead th {\n",
              "        text-align: right;\n",
              "    }\n",
              "</style>\n",
              "<table border=\"1\" class=\"dataframe\">\n",
              "  <thead>\n",
              "    <tr style=\"text-align: right;\">\n",
              "      <th></th>\n",
              "      <th>title</th>\n",
              "      <th>authors</th>\n",
              "      <th>original_publication_year</th>\n",
              "      <th>isbn</th>\n",
              "      <th>isbn13</th>\n",
              "      <th>image_url</th>\n",
              "    </tr>\n",
              "  </thead>\n",
              "  <tbody>\n",
              "    <tr>\n",
              "      <th>1792</th>\n",
              "      <td>One Night at the Call Center</td>\n",
              "      <td>Chetan Bhagat</td>\n",
              "      <td>2005.0</td>\n",
              "      <td>345498321</td>\n",
              "      <td>9.780345e+12</td>\n",
              "      <td>https://images.gr-assets.com/books/1320500924m...</td>\n",
              "    </tr>\n",
              "    <tr>\n",
              "      <th>1821</th>\n",
              "      <td>Revolution 2020: Love, Corruption, Ambition</td>\n",
              "      <td>Chetan Bhagat</td>\n",
              "      <td>2011.0</td>\n",
              "      <td>8129118807</td>\n",
              "      <td>9.788129e+12</td>\n",
              "      <td>https://images.gr-assets.com/books/1317964666m...</td>\n",
              "    </tr>\n",
              "    <tr>\n",
              "      <th>4044</th>\n",
              "      <td>Half Girlfriend</td>\n",
              "      <td>Chetan Bhagat</td>\n",
              "      <td>2014.0</td>\n",
              "      <td>8129135728</td>\n",
              "      <td>9.788129e+12</td>\n",
              "      <td>https://images.gr-assets.com/books/1407223058m...</td>\n",
              "    </tr>\n",
              "    <tr>\n",
              "      <th>4008</th>\n",
              "      <td>Four Blondes</td>\n",
              "      <td>Candace Bushnell</td>\n",
              "      <td>2000.0</td>\n",
              "      <td>080213825X</td>\n",
              "      <td>9.780802e+12</td>\n",
              "      <td>https://s.gr-assets.com/assets/nophoto/book/11...</td>\n",
              "    </tr>\n",
              "    <tr>\n",
              "      <th>4398</th>\n",
              "      <td>Mein Kampf</td>\n",
              "      <td>Adolf Hitler</td>\n",
              "      <td>1925.0</td>\n",
              "      <td>395083621</td>\n",
              "      <td>9.780395e+12</td>\n",
              "      <td>https://images.gr-assets.com/books/1395618385m...</td>\n",
              "    </tr>\n",
              "    <tr>\n",
              "      <th>7635</th>\n",
              "      <td>Of Course I Love You...! Till I Find Someone B...</td>\n",
              "      <td>Durjoy Datta, Maanvi Ahuja</td>\n",
              "      <td>2008.0</td>\n",
              "      <td>8188575658</td>\n",
              "      <td>9.788189e+12</td>\n",
              "      <td>https://images.gr-assets.com/books/1274597947m...</td>\n",
              "    </tr>\n",
              "    <tr>\n",
              "      <th>8873</th>\n",
              "      <td>Tell-All</td>\n",
              "      <td>Chuck Palahniuk</td>\n",
              "      <td>2010.0</td>\n",
              "      <td>385526350</td>\n",
              "      <td>9.780386e+12</td>\n",
              "      <td>https://images.gr-assets.com/books/1320495064m...</td>\n",
              "    </tr>\n",
              "    <tr>\n",
              "      <th>33</th>\n",
              "      <td>Fifty Shades of Grey (Fifty Shades, #1)</td>\n",
              "      <td>E.L. James</td>\n",
              "      <td>2011.0</td>\n",
              "      <td>1612130291</td>\n",
              "      <td>9.781612e+12</td>\n",
              "      <td>https://images.gr-assets.com/books/1385207843m...</td>\n",
              "    </tr>\n",
              "    <tr>\n",
              "      <th>1408</th>\n",
              "      <td>The 3 Mistakes of My Life</td>\n",
              "      <td>Chetan Bhagat</td>\n",
              "      <td>2008.0</td>\n",
              "      <td>NaN</td>\n",
              "      <td>9.788129e+12</td>\n",
              "      <td>https://s.gr-assets.com/assets/nophoto/book/11...</td>\n",
              "    </tr>\n",
              "    <tr>\n",
              "      <th>5705</th>\n",
              "      <td>حبيبتي بكماء</td>\n",
              "      <td>محمد السالم</td>\n",
              "      <td>2013.0</td>\n",
              "      <td>NaN</td>\n",
              "      <td>NaN</td>\n",
              "      <td>https://images.gr-assets.com/books/1377064343m...</td>\n",
              "    </tr>\n",
              "  </tbody>\n",
              "</table>\n",
              "</div>"
            ],
            "text/plain": [
              "                                                  title  ...                                          image_url\n",
              "1792                       One Night at the Call Center  ...  https://images.gr-assets.com/books/1320500924m...\n",
              "1821        Revolution 2020: Love, Corruption, Ambition  ...  https://images.gr-assets.com/books/1317964666m...\n",
              "4044                                    Half Girlfriend  ...  https://images.gr-assets.com/books/1407223058m...\n",
              "4008                                       Four Blondes  ...  https://s.gr-assets.com/assets/nophoto/book/11...\n",
              "4398                                         Mein Kampf  ...  https://images.gr-assets.com/books/1395618385m...\n",
              "7635  Of Course I Love You...! Till I Find Someone B...  ...  https://images.gr-assets.com/books/1274597947m...\n",
              "8873                                           Tell-All  ...  https://images.gr-assets.com/books/1320495064m...\n",
              "33              Fifty Shades of Grey (Fifty Shades, #1)  ...  https://images.gr-assets.com/books/1385207843m...\n",
              "1408                          The 3 Mistakes of My Life  ...  https://s.gr-assets.com/assets/nophoto/book/11...\n",
              "5705                                       حبيبتي بكماء  ...  https://images.gr-assets.com/books/1377064343m...\n",
              "\n",
              "[10 rows x 6 columns]"
            ]
          },
          "metadata": {
            "tags": []
          },
          "execution_count": 13
        }
      ]
    }
  ]
}